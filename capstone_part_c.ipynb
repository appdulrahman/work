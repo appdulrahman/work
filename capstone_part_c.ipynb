{
 "cells": [
  {
   "cell_type": "code",
   "execution_count": 1,
   "metadata": {},
   "outputs": [
    {
     "name": "stderr",
     "output_type": "stream",
     "text": [
      "Using TensorFlow backend.\n"
     ]
    }
   ],
   "source": [
    "# import the libraries \n",
    "from __future__ import print_function\n",
    "import tensorflow as tf\n",
    "import keras\n",
    "from keras.models import Sequential, load_model\n",
    "from keras.layers import Dense, Dropout, Flatten, Conv2D, MaxPooling2D\n",
    "from keras import backend as K\n",
    "from keras.preprocessing.image import ImageDataGenerator\n",
    "from keras.preprocessing import image\n",
    "import numpy as np\n",
    "import pandas as pd\n",
    "\n",
    "# get the gpu to do the train\n",
    "from keras import backend as K\n",
    "K.tensorflow_backend._get_available_gpus()\n",
    "\n",
    "# to supress warnings\n",
    "import os\n",
    "os.environ['TF_CPP_MIN_LOG_LEVEL'] ='2'"
   ]
  },
  {
   "cell_type": "code",
   "execution_count": 2,
   "metadata": {},
   "outputs": [
    {
     "name": "stdout",
     "output_type": "stream",
     "text": [
      "[name: \"/device:CPU:0\"\n",
      "device_type: \"CPU\"\n",
      "memory_limit: 268435456\n",
      "locality {\n",
      "}\n",
      "incarnation: 14314672282727860934\n",
      ", name: \"/device:GPU:0\"\n",
      "device_type: \"GPU\"\n",
      "memory_limit: 3157314764\n",
      "locality {\n",
      "  bus_id: 1\n",
      "  links {\n",
      "  }\n",
      "}\n",
      "incarnation: 9737800159081283107\n",
      "physical_device_desc: \"device: 0, name: GeForce GTX 1050 Ti, pci bus id: 0000:01:00.0, compute capability: 6.1\"\n",
      "]\n"
     ]
    }
   ],
   "source": [
    "# check for the gpu\n",
    "from tensorflow.python.client import device_lib\n",
    "print(device_lib.list_local_devices())"
   ]
  },
  {
   "cell_type": "code",
   "execution_count": 3,
   "metadata": {},
   "outputs": [],
   "source": [
    "# number of classes\n",
    "num_classes = 8\n",
    "\n",
    "# number of batch size and the epochs\n",
    "batch_size = 32\n",
    "epochs = 25\n",
    "\n",
    "# input image dimnsions\n",
    "img_rows, img_cols = 250, 140\n",
    "target_size = (img_rows, img_cols)\n",
    "color_mode = 'rgb'\n",
    "\n",
    "# checking for shape includding the channels\n",
    "if K.image_data_format() == 'channels_first':\n",
    "    input_shape = (3, img_rows, img_cols)\n",
    "else:\n",
    "    input_shape = (img_rows, img_cols, 3)\n",
    "    \n",
    "# setting the file to be read\n",
    "train_path = './train'\n",
    "valid_path = './valid'\n",
    "test_path_1 = './test1'\n",
    "test_path_2 = './test2'"
   ]
  },
  {
   "cell_type": "code",
   "execution_count": 4,
   "metadata": {},
   "outputs": [
    {
     "name": "stdout",
     "output_type": "stream",
     "text": [
      "Found 3301 images belonging to 8 classes.\n"
     ]
    }
   ],
   "source": [
    "# image Augmentation\n",
    "datagen = ImageDataGenerator(rescale=1/255, shear_range=0.2, horizontal_flip=True, vertical_flip=True)\n",
    "\n",
    "# loading the training data\n",
    "training_data = datagen.flow_from_directory(train_path, target_size = target_size, batch_size = batch_size,\n",
    "                                            class_mode = 'categorical', color_mode = color_mode, shuffle = True)"
   ]
  },
  {
   "cell_type": "code",
   "execution_count": 5,
   "metadata": {},
   "outputs": [
    {
     "name": "stdout",
     "output_type": "stream",
     "text": [
      "Found 476 images belonging to 8 classes.\n"
     ]
    }
   ],
   "source": [
    "# image Augmentation\n",
    "datagen = ImageDataGenerator(rescale=1/255)\n",
    "\n",
    "# loading the validation data\n",
    "validation_data = datagen.flow_from_directory(valid_path, target_size = target_size, batch_size = batch_size,\n",
    "                                            class_mode = 'categorical', color_mode = color_mode, shuffle = True)"
   ]
  },
  {
   "cell_type": "code",
   "execution_count": 6,
   "metadata": {},
   "outputs": [
    {
     "name": "stdout",
     "output_type": "stream",
     "text": [
      "Found 1000 images belonging to 1 classes.\n"
     ]
    }
   ],
   "source": [
    "# image Augmentation\n",
    "datagen = ImageDataGenerator(rescale=1/255)\n",
    "\n",
    "# loading the test data\n",
    "test_data_1 = datagen.flow_from_directory(test_path_1, target_size = target_size, batch_size = 50,\n",
    "                                            class_mode = None, color_mode = color_mode, shuffle = False)"
   ]
  },
  {
   "cell_type": "code",
   "execution_count": 7,
   "metadata": {},
   "outputs": [
    {
     "name": "stdout",
     "output_type": "stream",
     "text": [
      "Found 12153 images belonging to 1 classes.\n"
     ]
    }
   ],
   "source": [
    "# image Augmentation\n",
    "datagen = ImageDataGenerator(rescale=1/255)\n",
    "\n",
    "# loading the test data\n",
    "test_data_2 = datagen.flow_from_directory(test_path_2, target_size = target_size, batch_size = 3,\n",
    "                                            class_mode = None, color_mode = color_mode, shuffle = False)"
   ]
  },
  {
   "cell_type": "code",
   "execution_count": 8,
   "metadata": {},
   "outputs": [],
   "source": [
    "# define the model\n",
    "model = Sequential()\n",
    "model.add(Conv2D(50, kernel_size=(3,3), padding='same', activation='relu', input_shape=input_shape))\n",
    "model.add(Conv2D(50, kernel_size=(3,3), activation='relu'))\n",
    "model.add(Conv2D(50, kernel_size=(3,3), strides = 2, activation='relu'))\n",
    "model.add(Conv2D(100, kernel_size=(3,3), padding='same', activation='relu'))\n",
    "model.add(Conv2D(100, kernel_size=(3,3), activation='relu'))\n",
    "model.add(Conv2D(100, kernel_size=(3,3), strides = 2, activation='relu'))\n",
    "model.add(Flatten())\n",
    "model.add(Dense(200, activation='relu'))\n",
    "model.add(Dropout(0.5))\n",
    "model.add(Dense(num_classes, activation='softmax'))"
   ]
  },
  {
   "cell_type": "code",
   "execution_count": 9,
   "metadata": {},
   "outputs": [
    {
     "name": "stdout",
     "output_type": "stream",
     "text": [
      "_________________________________________________________________\n",
      "Layer (type)                 Output Shape              Param #   \n",
      "=================================================================\n",
      "conv2d_1 (Conv2D)            (None, 250, 140, 50)      1400      \n",
      "_________________________________________________________________\n",
      "conv2d_2 (Conv2D)            (None, 248, 138, 50)      22550     \n",
      "_________________________________________________________________\n",
      "conv2d_3 (Conv2D)            (None, 123, 68, 50)       22550     \n",
      "_________________________________________________________________\n",
      "conv2d_4 (Conv2D)            (None, 123, 68, 100)      45100     \n",
      "_________________________________________________________________\n",
      "conv2d_5 (Conv2D)            (None, 121, 66, 100)      90100     \n",
      "_________________________________________________________________\n",
      "conv2d_6 (Conv2D)            (None, 60, 32, 100)       90100     \n",
      "_________________________________________________________________\n",
      "flatten_1 (Flatten)          (None, 192000)            0         \n",
      "_________________________________________________________________\n",
      "dense_1 (Dense)              (None, 200)               38400200  \n",
      "_________________________________________________________________\n",
      "dropout_1 (Dropout)          (None, 200)               0         \n",
      "_________________________________________________________________\n",
      "dense_2 (Dense)              (None, 8)                 1608      \n",
      "=================================================================\n",
      "Total params: 38,673,608\n",
      "Trainable params: 38,673,608\n",
      "Non-trainable params: 0\n",
      "_________________________________________________________________\n"
     ]
    }
   ],
   "source": [
    "model.summary()"
   ]
  },
  {
   "cell_type": "code",
   "execution_count": 10,
   "metadata": {},
   "outputs": [],
   "source": [
    "# compile the loss funcation and the optimizer funcation\n",
    "model.compile(loss=keras.losses.categorical_crossentropy, optimizer=keras.optimizers.Adam(), metrics=['accuracy'])"
   ]
  },
  {
   "cell_type": "code",
   "execution_count": 11,
   "metadata": {},
   "outputs": [
    {
     "name": "stdout",
     "output_type": "stream",
     "text": [
      "Epoch 1/25\n",
      "103/103 [==============================] - 151s 1s/step - loss: 1.6806 - acc: 0.4342 - val_loss: 1.6248 - val_acc: 0.5089\n",
      "Epoch 2/25\n",
      "103/103 [==============================] - 151s 1s/step - loss: 1.5601 - acc: 0.4694 - val_loss: 1.5341 - val_acc: 0.5023\n",
      "Epoch 3/25\n",
      "103/103 [==============================] - 151s 1s/step - loss: 1.4574 - acc: 0.4879 - val_loss: 1.4289 - val_acc: 0.5338\n",
      "Epoch 4/25\n",
      "103/103 [==============================] - 146s 1s/step - loss: 1.2430 - acc: 0.5511 - val_loss: 1.1031 - val_acc: 0.5946\n",
      "Epoch 5/25\n",
      "103/103 [==============================] - 145s 1s/step - loss: 1.0250 - acc: 0.6304 - val_loss: 0.8839 - val_acc: 0.6599\n",
      "Epoch 6/25\n",
      "103/103 [==============================] - 152s 1s/step - loss: 0.8802 - acc: 0.7076 - val_loss: 0.7856 - val_acc: 0.7500\n",
      "Epoch 7/25\n",
      "103/103 [==============================] - 149s 1s/step - loss: 0.7264 - acc: 0.7557 - val_loss: 0.6976 - val_acc: 0.7568\n",
      "Epoch 8/25\n",
      "103/103 [==============================] - 149s 1s/step - loss: 0.5960 - acc: 0.8076 - val_loss: 0.5140 - val_acc: 0.8131\n",
      "Epoch 9/25\n",
      "103/103 [==============================] - 153s 1s/step - loss: 0.5046 - acc: 0.8324 - val_loss: 0.5915 - val_acc: 0.8243\n",
      "Epoch 10/25\n",
      "103/103 [==============================] - 154s 1s/step - loss: 0.4202 - acc: 0.8665 - val_loss: 0.4172 - val_acc: 0.8716\n",
      "Epoch 11/25\n",
      "103/103 [==============================] - 153s 1s/step - loss: 0.3760 - acc: 0.8816 - val_loss: 0.4063 - val_acc: 0.8874\n",
      "Epoch 12/25\n",
      "103/103 [==============================] - 148s 1s/step - loss: 0.3586 - acc: 0.8904 - val_loss: 0.3845 - val_acc: 0.9032\n",
      "Epoch 13/25\n",
      "103/103 [==============================] - 97s 942ms/step - loss: 0.3167 - acc: 0.9014 - val_loss: 0.3605 - val_acc: 0.9032\n",
      "Epoch 14/25\n",
      "103/103 [==============================] - 73s 705ms/step - loss: 0.2878 - acc: 0.9052 - val_loss: 0.2625 - val_acc: 0.9279\n",
      "Epoch 15/25\n",
      "103/103 [==============================] - 76s 742ms/step - loss: 0.2473 - acc: 0.9225 - val_loss: 0.2650 - val_acc: 0.9369\n",
      "Epoch 16/25\n",
      "103/103 [==============================] - 76s 737ms/step - loss: 0.2214 - acc: 0.9307 - val_loss: 0.2329 - val_acc: 0.9397\n",
      "Epoch 17/25\n",
      "103/103 [==============================] - 72s 700ms/step - loss: 0.1781 - acc: 0.9435 - val_loss: 0.2390 - val_acc: 0.9324\n",
      "Epoch 18/25\n",
      "103/103 [==============================] - 67s 648ms/step - loss: 0.2134 - acc: 0.9362 - val_loss: 0.2099 - val_acc: 0.9459\n",
      "Epoch 19/25\n",
      "103/103 [==============================] - 63s 614ms/step - loss: 0.1591 - acc: 0.9524 - val_loss: 0.2013 - val_acc: 0.9369\n",
      "Epoch 20/25\n",
      "103/103 [==============================] - 63s 608ms/step - loss: 0.1413 - acc: 0.9548 - val_loss: 0.2181 - val_acc: 0.9324\n",
      "Epoch 21/25\n",
      "103/103 [==============================] - 62s 605ms/step - loss: 0.1524 - acc: 0.9548 - val_loss: 0.2305 - val_acc: 0.9347\n",
      "Epoch 22/25\n",
      "103/103 [==============================] - 62s 598ms/step - loss: 0.1241 - acc: 0.9574 - val_loss: 0.1520 - val_acc: 0.9617\n",
      "Epoch 23/25\n",
      "103/103 [==============================] - 63s 611ms/step - loss: 0.1083 - acc: 0.9636 - val_loss: 0.1525 - val_acc: 0.9617\n",
      "Epoch 24/25\n",
      "103/103 [==============================] - 62s 600ms/step - loss: 0.1189 - acc: 0.9615 - val_loss: 0.1826 - val_acc: 0.9617\n",
      "Epoch 25/25\n",
      "103/103 [==============================] - 62s 597ms/step - loss: 0.0973 - acc: 0.9675 - val_loss: 0.1896 - val_acc: 0.9414\n"
     ]
    },
    {
     "data": {
      "text/plain": [
       "<keras.callbacks.History at 0x129b5b4d518>"
      ]
     },
     "execution_count": 11,
     "metadata": {},
     "output_type": "execute_result"
    }
   ],
   "source": [
    "# train the model\n",
    "STEP_SIZE_TRAIN = training_data.n // training_data.batch_size\n",
    "STEP_SIZE_VALID = validation_data.n // validation_data.batch_size\n",
    "\n",
    "model.fit_generator(generator = training_data,\n",
    "                    steps_per_epoch = STEP_SIZE_TRAIN,\n",
    "                    validation_data = validation_data,\n",
    "                    validation_steps = STEP_SIZE_VALID,\n",
    "                    epochs = epochs\n",
    ")"
   ]
  },
  {
   "cell_type": "code",
   "execution_count": 13,
   "metadata": {},
   "outputs": [],
   "source": [
    "model.save('my_3rd_model.h5')  # creates a HDF5 file 'my_model.h5'"
   ]
  },
  {
   "cell_type": "code",
   "execution_count": 14,
   "metadata": {},
   "outputs": [],
   "source": [
    "test_data_1.reset()\n",
    "predictions_1 = model.predict_generator(test_data_1, steps=20, verbose=0)"
   ]
  },
  {
   "cell_type": "code",
   "execution_count": 15,
   "metadata": {},
   "outputs": [],
   "source": [
    "FishNames = ['ALB', 'BET', 'DOL', 'LAG', 'NoF', 'OTHER', 'SHARK', 'YFT']\n",
    "\n",
    "test_image_list = test_data_1.filenames\n",
    "f_submit = open('submit_1_c.csv', 'w')\n",
    "f_submit.write('image,ALB,BET,DOL,LAG,NoF,OTHER,SHARK,YFT\\n')\n",
    "\n",
    "for i, image_name in enumerate(test_image_list):\n",
    "    pred = ['%.6f' % p for p in predictions_1[i, :]]\n",
    "    f_submit.write('%s,%s\\n' % (os.path.basename(image_name), ','.join(pred)))\n",
    "\n",
    "f_submit.close()"
   ]
  },
  {
   "cell_type": "code",
   "execution_count": 16,
   "metadata": {},
   "outputs": [
    {
     "data": {
      "text/html": [
       "<div>\n",
       "<style scoped>\n",
       "    .dataframe tbody tr th:only-of-type {\n",
       "        vertical-align: middle;\n",
       "    }\n",
       "\n",
       "    .dataframe tbody tr th {\n",
       "        vertical-align: top;\n",
       "    }\n",
       "\n",
       "    .dataframe thead th {\n",
       "        text-align: right;\n",
       "    }\n",
       "</style>\n",
       "<table border=\"1\" class=\"dataframe\">\n",
       "  <thead>\n",
       "    <tr style=\"text-align: right;\">\n",
       "      <th></th>\n",
       "      <th>image</th>\n",
       "      <th>ALB</th>\n",
       "      <th>BET</th>\n",
       "      <th>DOL</th>\n",
       "      <th>LAG</th>\n",
       "      <th>NoF</th>\n",
       "      <th>OTHER</th>\n",
       "      <th>SHARK</th>\n",
       "      <th>YFT</th>\n",
       "    </tr>\n",
       "  </thead>\n",
       "  <tbody>\n",
       "    <tr>\n",
       "      <th>0</th>\n",
       "      <td>img_00005.jpg</td>\n",
       "      <td>0.000006</td>\n",
       "      <td>0.000000</td>\n",
       "      <td>0.0</td>\n",
       "      <td>0.000000</td>\n",
       "      <td>0.999994</td>\n",
       "      <td>0.000000</td>\n",
       "      <td>0.0</td>\n",
       "      <td>0.000000</td>\n",
       "    </tr>\n",
       "    <tr>\n",
       "      <th>1</th>\n",
       "      <td>img_00007.jpg</td>\n",
       "      <td>0.998462</td>\n",
       "      <td>0.000008</td>\n",
       "      <td>0.0</td>\n",
       "      <td>0.000138</td>\n",
       "      <td>0.000732</td>\n",
       "      <td>0.000139</td>\n",
       "      <td>0.0</td>\n",
       "      <td>0.000521</td>\n",
       "    </tr>\n",
       "  </tbody>\n",
       "</table>\n",
       "</div>"
      ],
      "text/plain": [
       "           image       ALB       BET  DOL       LAG       NoF     OTHER  \\\n",
       "0  img_00005.jpg  0.000006  0.000000  0.0  0.000000  0.999994  0.000000   \n",
       "1  img_00007.jpg  0.998462  0.000008  0.0  0.000138  0.000732  0.000139   \n",
       "\n",
       "   SHARK       YFT  \n",
       "0    0.0  0.000000  \n",
       "1    0.0  0.000521  "
      ]
     },
     "execution_count": 16,
     "metadata": {},
     "output_type": "execute_result"
    }
   ],
   "source": [
    "df_1 = pd.read_csv('submit_1_c.csv')\n",
    "df_1.head(2)"
   ]
  },
  {
   "cell_type": "code",
   "execution_count": 17,
   "metadata": {},
   "outputs": [],
   "source": [
    "test_data_2.reset()\n",
    "predictions_2 = model.predict_generator(test_data_2, steps=4051, verbose=0)"
   ]
  },
  {
   "cell_type": "code",
   "execution_count": 18,
   "metadata": {},
   "outputs": [],
   "source": [
    "FishNames = ['ALB', 'BET', 'DOL', 'LAG', 'NoF', 'OTHER', 'SHARK', 'YFT']\n",
    "\n",
    "test_image_list = test_data_2.filenames\n",
    "f_submit = open('submit_2_c.csv', 'w')\n",
    "f_submit.write('image,ALB,BET,DOL,LAG,NoF,OTHER,SHARK,YFT\\n')\n",
    "\n",
    "for i, image_name in enumerate(test_image_list):\n",
    "    pred = ['%.6f' % p for p in predictions_2[i, :]]\n",
    "    f_submit.write('%s,%s\\n' % (os.path.basename(image_name), ','.join(pred)))\n",
    "\n",
    "f_submit.close()"
   ]
  },
  {
   "cell_type": "code",
   "execution_count": 19,
   "metadata": {},
   "outputs": [
    {
     "data": {
      "text/html": [
       "<div>\n",
       "<style scoped>\n",
       "    .dataframe tbody tr th:only-of-type {\n",
       "        vertical-align: middle;\n",
       "    }\n",
       "\n",
       "    .dataframe tbody tr th {\n",
       "        vertical-align: top;\n",
       "    }\n",
       "\n",
       "    .dataframe thead th {\n",
       "        text-align: right;\n",
       "    }\n",
       "</style>\n",
       "<table border=\"1\" class=\"dataframe\">\n",
       "  <thead>\n",
       "    <tr style=\"text-align: right;\">\n",
       "      <th></th>\n",
       "      <th>image</th>\n",
       "      <th>ALB</th>\n",
       "      <th>BET</th>\n",
       "      <th>DOL</th>\n",
       "      <th>LAG</th>\n",
       "      <th>NoF</th>\n",
       "      <th>OTHER</th>\n",
       "      <th>SHARK</th>\n",
       "      <th>YFT</th>\n",
       "    </tr>\n",
       "  </thead>\n",
       "  <tbody>\n",
       "    <tr>\n",
       "      <th>0</th>\n",
       "      <td>image_00001.jpg</td>\n",
       "      <td>0.264242</td>\n",
       "      <td>0.172134</td>\n",
       "      <td>0.011821</td>\n",
       "      <td>0.027255</td>\n",
       "      <td>0.051512</td>\n",
       "      <td>0.258965</td>\n",
       "      <td>0.070480</td>\n",
       "      <td>0.143592</td>\n",
       "    </tr>\n",
       "    <tr>\n",
       "      <th>1</th>\n",
       "      <td>image_00002.jpg</td>\n",
       "      <td>0.057599</td>\n",
       "      <td>0.001027</td>\n",
       "      <td>0.012868</td>\n",
       "      <td>0.000183</td>\n",
       "      <td>0.892273</td>\n",
       "      <td>0.002944</td>\n",
       "      <td>0.000003</td>\n",
       "      <td>0.033104</td>\n",
       "    </tr>\n",
       "  </tbody>\n",
       "</table>\n",
       "</div>"
      ],
      "text/plain": [
       "             image       ALB       BET       DOL       LAG       NoF  \\\n",
       "0  image_00001.jpg  0.264242  0.172134  0.011821  0.027255  0.051512   \n",
       "1  image_00002.jpg  0.057599  0.001027  0.012868  0.000183  0.892273   \n",
       "\n",
       "      OTHER     SHARK       YFT  \n",
       "0  0.258965  0.070480  0.143592  \n",
       "1  0.002944  0.000003  0.033104  "
      ]
     },
     "execution_count": 19,
     "metadata": {},
     "output_type": "execute_result"
    }
   ],
   "source": [
    "df_2 = pd.read_csv('submit_2_b.csv')\n",
    "df_2.head(2)"
   ]
  },
  {
   "cell_type": "code",
   "execution_count": 20,
   "metadata": {},
   "outputs": [
    {
     "data": {
      "text/html": [
       "<div>\n",
       "<style scoped>\n",
       "    .dataframe tbody tr th:only-of-type {\n",
       "        vertical-align: middle;\n",
       "    }\n",
       "\n",
       "    .dataframe tbody tr th {\n",
       "        vertical-align: top;\n",
       "    }\n",
       "\n",
       "    .dataframe thead th {\n",
       "        text-align: right;\n",
       "    }\n",
       "</style>\n",
       "<table border=\"1\" class=\"dataframe\">\n",
       "  <thead>\n",
       "    <tr style=\"text-align: right;\">\n",
       "      <th></th>\n",
       "      <th>image</th>\n",
       "      <th>ALB</th>\n",
       "      <th>BET</th>\n",
       "      <th>DOL</th>\n",
       "      <th>LAG</th>\n",
       "      <th>NoF</th>\n",
       "      <th>OTHER</th>\n",
       "      <th>SHARK</th>\n",
       "      <th>YFT</th>\n",
       "    </tr>\n",
       "  </thead>\n",
       "  <tbody>\n",
       "    <tr>\n",
       "      <th>0</th>\n",
       "      <td>test_stg2/image_00001.jpg</td>\n",
       "      <td>0.264242</td>\n",
       "      <td>0.172134</td>\n",
       "      <td>0.011821</td>\n",
       "      <td>0.027255</td>\n",
       "      <td>0.051512</td>\n",
       "      <td>0.258965</td>\n",
       "      <td>0.070480</td>\n",
       "      <td>0.143592</td>\n",
       "    </tr>\n",
       "    <tr>\n",
       "      <th>1</th>\n",
       "      <td>test_stg2/image_00002.jpg</td>\n",
       "      <td>0.057599</td>\n",
       "      <td>0.001027</td>\n",
       "      <td>0.012868</td>\n",
       "      <td>0.000183</td>\n",
       "      <td>0.892273</td>\n",
       "      <td>0.002944</td>\n",
       "      <td>0.000003</td>\n",
       "      <td>0.033104</td>\n",
       "    </tr>\n",
       "  </tbody>\n",
       "</table>\n",
       "</div>"
      ],
      "text/plain": [
       "                       image       ALB       BET       DOL       LAG  \\\n",
       "0  test_stg2/image_00001.jpg  0.264242  0.172134  0.011821  0.027255   \n",
       "1  test_stg2/image_00002.jpg  0.057599  0.001027  0.012868  0.000183   \n",
       "\n",
       "        NoF     OTHER     SHARK       YFT  \n",
       "0  0.051512  0.258965  0.070480  0.143592  \n",
       "1  0.892273  0.002944  0.000003  0.033104  "
      ]
     },
     "execution_count": 20,
     "metadata": {},
     "output_type": "execute_result"
    }
   ],
   "source": [
    "df_2['image'] = df_2['image'].map(lambda x: 'test_stg2/' + x)\n",
    "df_2.head(2)"
   ]
  },
  {
   "cell_type": "code",
   "execution_count": 21,
   "metadata": {},
   "outputs": [],
   "source": [
    "new_df = pd.concat([df_1, df_2])"
   ]
  },
  {
   "cell_type": "code",
   "execution_count": 22,
   "metadata": {},
   "outputs": [
    {
     "name": "stdout",
     "output_type": "stream",
     "text": [
      "<class 'pandas.core.frame.DataFrame'>\n",
      "Int64Index: 13153 entries, 0 to 12152\n",
      "Data columns (total 9 columns):\n",
      "image    13153 non-null object\n",
      "ALB      13153 non-null float64\n",
      "BET      13153 non-null float64\n",
      "DOL      13153 non-null float64\n",
      "LAG      13153 non-null float64\n",
      "NoF      13153 non-null float64\n",
      "OTHER    13153 non-null float64\n",
      "SHARK    13153 non-null float64\n",
      "YFT      13153 non-null float64\n",
      "dtypes: float64(8), object(1)\n",
      "memory usage: 1.0+ MB\n"
     ]
    }
   ],
   "source": [
    "new_df.info()"
   ]
  },
  {
   "cell_type": "code",
   "execution_count": 23,
   "metadata": {},
   "outputs": [],
   "source": [
    "new_df.reset_index(drop=True, inplace=True)"
   ]
  },
  {
   "cell_type": "code",
   "execution_count": 24,
   "metadata": {},
   "outputs": [],
   "source": [
    "new_df.to_csv('f_c.csv')"
   ]
  },
  {
   "cell_type": "code",
   "execution_count": null,
   "metadata": {},
   "outputs": [],
   "source": []
  }
 ],
 "metadata": {
  "kernelspec": {
   "display_name": "Python 3",
   "language": "python",
   "name": "python3"
  },
  "language_info": {
   "codemirror_mode": {
    "name": "ipython",
    "version": 3
   },
   "file_extension": ".py",
   "mimetype": "text/x-python",
   "name": "python",
   "nbconvert_exporter": "python",
   "pygments_lexer": "ipython3",
   "version": "3.6.8"
  }
 },
 "nbformat": 4,
 "nbformat_minor": 2
}
