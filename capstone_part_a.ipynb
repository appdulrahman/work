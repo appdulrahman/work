{
 "cells": [
  {
   "cell_type": "code",
   "execution_count": 1,
   "metadata": {},
   "outputs": [
    {
     "name": "stderr",
     "output_type": "stream",
     "text": [
      "Using TensorFlow backend.\n"
     ]
    }
   ],
   "source": [
    "# import the libraries \n",
    "from __future__ import print_function\n",
    "import tensorflow as tf\n",
    "import keras\n",
    "from keras.models import Sequential, load_model\n",
    "from keras.layers import Dense, Dropout, Flatten, Conv2D, MaxPooling2D\n",
    "from keras import backend as K\n",
    "from keras.preprocessing.image import ImageDataGenerator\n",
    "from keras.preprocessing import image\n",
    "import numpy as np\n",
    "import pandas as pd\n",
    "\n",
    "# get the gpu to do the train\n",
    "from keras import backend as K\n",
    "K.tensorflow_backend._get_available_gpus()\n",
    "\n",
    "# to supress warnings\n",
    "import os\n",
    "os.environ['TF_CPP_MIN_LOG_LEVEL'] ='2'"
   ]
  },
  {
   "cell_type": "code",
   "execution_count": 2,
   "metadata": {},
   "outputs": [
    {
     "name": "stdout",
     "output_type": "stream",
     "text": [
      "[name: \"/device:CPU:0\"\n",
      "device_type: \"CPU\"\n",
      "memory_limit: 268435456\n",
      "locality {\n",
      "}\n",
      "incarnation: 10350908620227136755\n",
      ", name: \"/device:GPU:0\"\n",
      "device_type: \"GPU\"\n",
      "memory_limit: 3157314764\n",
      "locality {\n",
      "  bus_id: 1\n",
      "  links {\n",
      "  }\n",
      "}\n",
      "incarnation: 18025754436791925372\n",
      "physical_device_desc: \"device: 0, name: GeForce GTX 1050 Ti, pci bus id: 0000:01:00.0, compute capability: 6.1\"\n",
      "]\n"
     ]
    }
   ],
   "source": [
    "# check for the gpu\n",
    "from tensorflow.python.client import device_lib\n",
    "print(device_lib.list_local_devices())"
   ]
  },
  {
   "cell_type": "code",
   "execution_count": 3,
   "metadata": {},
   "outputs": [],
   "source": [
    "# number of classes\n",
    "num_classes = 8\n",
    "\n",
    "# number of batch size and the epochs\n",
    "batch_size = 32\n",
    "epochs = 15\n",
    "\n",
    "# input image dimnsions\n",
    "img_rows, img_cols = 250, 140\n",
    "target_size = (img_rows, img_cols)\n",
    "color_mode = 'rgb'\n",
    "\n",
    "# checking for shape includding the channels\n",
    "if K.image_data_format() == 'channels_first':\n",
    "    input_shape = (3, img_rows, img_cols)\n",
    "else:\n",
    "    input_shape = (img_rows, img_cols, 3)\n",
    "    \n",
    "# setting the file to be read\n",
    "train_path = './train'\n",
    "valid_path = './valid'\n",
    "test_path_1 = './test1'\n",
    "test_path_2 = './test2'"
   ]
  },
  {
   "cell_type": "code",
   "execution_count": 4,
   "metadata": {},
   "outputs": [
    {
     "name": "stdout",
     "output_type": "stream",
     "text": [
      "Found 3301 images belonging to 8 classes.\n"
     ]
    }
   ],
   "source": [
    "# image Augmentation\n",
    "datagen = ImageDataGenerator(rescale=1/255, shear_range=0.2, horizontal_flip=True, vertical_flip=True)\n",
    "\n",
    "# loading the training data\n",
    "training_data = datagen.flow_from_directory(train_path, target_size = target_size, batch_size = batch_size,\n",
    "                                            class_mode = 'categorical', color_mode = color_mode, shuffle = True)"
   ]
  },
  {
   "cell_type": "code",
   "execution_count": 5,
   "metadata": {},
   "outputs": [
    {
     "name": "stdout",
     "output_type": "stream",
     "text": [
      "Found 476 images belonging to 8 classes.\n"
     ]
    }
   ],
   "source": [
    "# image Augmentation\n",
    "datagen = ImageDataGenerator(rescale=1/255)\n",
    "\n",
    "# loading the validation data\n",
    "validation_data = datagen.flow_from_directory(valid_path, target_size = target_size, batch_size = batch_size,\n",
    "                                            class_mode = 'categorical', color_mode = color_mode, shuffle = True)"
   ]
  },
  {
   "cell_type": "code",
   "execution_count": 6,
   "metadata": {},
   "outputs": [
    {
     "name": "stdout",
     "output_type": "stream",
     "text": [
      "Found 1000 images belonging to 1 classes.\n"
     ]
    }
   ],
   "source": [
    "# image Augmentation\n",
    "datagen = ImageDataGenerator(rescale=1/255)\n",
    "\n",
    "# loading the test data\n",
    "test_data_1 = datagen.flow_from_directory(test_path_1, target_size = target_size, batch_size = 50,\n",
    "                                            class_mode = None, color_mode = color_mode, shuffle = False)"
   ]
  },
  {
   "cell_type": "code",
   "execution_count": 7,
   "metadata": {},
   "outputs": [
    {
     "name": "stdout",
     "output_type": "stream",
     "text": [
      "Found 12153 images belonging to 1 classes.\n"
     ]
    }
   ],
   "source": [
    "# image Augmentation\n",
    "datagen = ImageDataGenerator(rescale=1/255)\n",
    "\n",
    "# loading the test data\n",
    "test_data_2 = datagen.flow_from_directory(test_path_2, target_size = target_size, batch_size = 3,\n",
    "                                            class_mode = None, color_mode = color_mode, shuffle = False)"
   ]
  },
  {
   "cell_type": "code",
   "execution_count": 8,
   "metadata": {},
   "outputs": [],
   "source": [
    "# define the model\n",
    "model = Sequential()\n",
    "model.add(Conv2D(32, kernel_size=(3,3), activation='relu', input_shape=input_shape))\n",
    "model.add(MaxPooling2D(pool_size=(2,2)))\n",
    "model.add(Conv2D(64, kernel_size=(3,3), activation='relu'))\n",
    "model.add(MaxPooling2D(pool_size=(2,2)))\n",
    "model.add(Flatten())\n",
    "model.add(Dense(128, activation='relu'))\n",
    "model.add(Dropout(0.5))\n",
    "model.add(Dense(num_classes, activation='softmax'))"
   ]
  },
  {
   "cell_type": "code",
   "execution_count": 9,
   "metadata": {},
   "outputs": [
    {
     "name": "stdout",
     "output_type": "stream",
     "text": [
      "_________________________________________________________________\n",
      "Layer (type)                 Output Shape              Param #   \n",
      "=================================================================\n",
      "conv2d_1 (Conv2D)            (None, 248, 138, 32)      896       \n",
      "_________________________________________________________________\n",
      "max_pooling2d_1 (MaxPooling2 (None, 124, 69, 32)       0         \n",
      "_________________________________________________________________\n",
      "conv2d_2 (Conv2D)            (None, 122, 67, 64)       18496     \n",
      "_________________________________________________________________\n",
      "max_pooling2d_2 (MaxPooling2 (None, 61, 33, 64)        0         \n",
      "_________________________________________________________________\n",
      "flatten_1 (Flatten)          (None, 128832)            0         \n",
      "_________________________________________________________________\n",
      "dense_1 (Dense)              (None, 128)               16490624  \n",
      "_________________________________________________________________\n",
      "dropout_1 (Dropout)          (None, 128)               0         \n",
      "_________________________________________________________________\n",
      "dense_2 (Dense)              (None, 8)                 1032      \n",
      "=================================================================\n",
      "Total params: 16,511,048\n",
      "Trainable params: 16,511,048\n",
      "Non-trainable params: 0\n",
      "_________________________________________________________________\n"
     ]
    }
   ],
   "source": [
    "model.summary()"
   ]
  },
  {
   "cell_type": "code",
   "execution_count": 10,
   "metadata": {},
   "outputs": [],
   "source": [
    "# compile the loss funcation and the optimizer funcation\n",
    "model.compile(loss=keras.losses.categorical_crossentropy, optimizer=keras.optimizers.Adam(), metrics=['accuracy'])"
   ]
  },
  {
   "cell_type": "code",
   "execution_count": 11,
   "metadata": {},
   "outputs": [
    {
     "data": {
      "text/plain": [
       "32"
      ]
     },
     "execution_count": 11,
     "metadata": {},
     "output_type": "execute_result"
    }
   ],
   "source": [
    "training_data.batch_size"
   ]
  },
  {
   "cell_type": "code",
   "execution_count": 17,
   "metadata": {},
   "outputs": [
    {
     "name": "stdout",
     "output_type": "stream",
     "text": [
      "Epoch 1/15\n",
      "103/103 [==============================] - 161s 2s/step - loss: 1.8643 - acc: 0.4505 - val_loss: 1.3972 - val_acc: 0.5580\n",
      "Epoch 2/15\n",
      "103/103 [==============================] - 160s 2s/step - loss: 1.2155 - acc: 0.5778 - val_loss: 0.9628 - val_acc: 0.6667\n",
      "Epoch 3/15\n",
      "103/103 [==============================] - 156s 2s/step - loss: 0.9021 - acc: 0.6880 - val_loss: 0.8140 - val_acc: 0.7117\n",
      "Epoch 4/15\n",
      "103/103 [==============================] - 140s 1s/step - loss: 0.7158 - acc: 0.7658 - val_loss: 0.6689 - val_acc: 0.7613\n",
      "Epoch 5/15\n",
      "103/103 [==============================] - 140s 1s/step - loss: 0.5933 - acc: 0.7996 - val_loss: 0.5425 - val_acc: 0.8221\n",
      "Epoch 6/15\n",
      "103/103 [==============================] - 140s 1s/step - loss: 0.5034 - acc: 0.8371 - val_loss: 0.5448 - val_acc: 0.8378\n",
      "Epoch 7/15\n",
      "103/103 [==============================] - 139s 1s/step - loss: 0.4605 - acc: 0.8516 - val_loss: 0.4605 - val_acc: 0.8671\n",
      "Epoch 8/15\n",
      "103/103 [==============================] - 140s 1s/step - loss: 0.3786 - acc: 0.8731 - val_loss: 0.4061 - val_acc: 0.8919\n",
      "Epoch 9/15\n",
      "103/103 [==============================] - 140s 1s/step - loss: 0.3520 - acc: 0.8832 - val_loss: 0.4365 - val_acc: 0.8468\n",
      "Epoch 10/15\n",
      "103/103 [==============================] - 139s 1s/step - loss: 0.3062 - acc: 0.8993 - val_loss: 0.2928 - val_acc: 0.9167\n",
      "Epoch 11/15\n",
      "103/103 [==============================] - 140s 1s/step - loss: 0.2772 - acc: 0.9175 - val_loss: 0.3339 - val_acc: 0.8986\n",
      "Epoch 12/15\n",
      "103/103 [==============================] - 140s 1s/step - loss: 0.2409 - acc: 0.9214 - val_loss: 0.3141 - val_acc: 0.8964\n",
      "Epoch 13/15\n",
      "103/103 [==============================] - 139s 1s/step - loss: 0.2202 - acc: 0.9287 - val_loss: 0.2439 - val_acc: 0.9189\n",
      "Epoch 14/15\n",
      "103/103 [==============================] - 141s 1s/step - loss: 0.2194 - acc: 0.9284 - val_loss: 0.3106 - val_acc: 0.8964\n",
      "Epoch 15/15\n",
      "103/103 [==============================] - 143s 1s/step - loss: 0.2011 - acc: 0.9395 - val_loss: 0.2707 - val_acc: 0.9189\n"
     ]
    },
    {
     "data": {
      "text/plain": [
       "<keras.callbacks.History at 0x1eb0a8a95c0>"
      ]
     },
     "execution_count": 17,
     "metadata": {},
     "output_type": "execute_result"
    }
   ],
   "source": [
    "# train the model\n",
    "STEP_SIZE_TRAIN = training_data.n // training_data.batch_size\n",
    "STEP_SIZE_VALID = validation_data.n // validation_data.batch_size\n",
    "model.fit_generator(generator = training_data,\n",
    "                    steps_per_epoch = STEP_SIZE_TRAIN,\n",
    "                    validation_data = validation_data,\n",
    "                    validation_steps = STEP_SIZE_VALID,\n",
    "                    epochs = epochs\n",
    ")"
   ]
  },
  {
   "cell_type": "code",
   "execution_count": 12,
   "metadata": {},
   "outputs": [],
   "source": [
    "model.save('my_model.h5')  # creates a HDF5 file 'my_model.h5'"
   ]
  },
  {
   "cell_type": "code",
   "execution_count": 13,
   "metadata": {},
   "outputs": [
    {
     "data": {
      "text/html": [
       "<div>\n",
       "<style scoped>\n",
       "    .dataframe tbody tr th:only-of-type {\n",
       "        vertical-align: middle;\n",
       "    }\n",
       "\n",
       "    .dataframe tbody tr th {\n",
       "        vertical-align: top;\n",
       "    }\n",
       "\n",
       "    .dataframe thead th {\n",
       "        text-align: right;\n",
       "    }\n",
       "</style>\n",
       "<table border=\"1\" class=\"dataframe\">\n",
       "  <thead>\n",
       "    <tr style=\"text-align: right;\">\n",
       "      <th></th>\n",
       "      <th>image</th>\n",
       "      <th>ALB</th>\n",
       "      <th>BET</th>\n",
       "      <th>DOL</th>\n",
       "      <th>LAG</th>\n",
       "      <th>NoF</th>\n",
       "      <th>OTHER</th>\n",
       "      <th>SHARK</th>\n",
       "      <th>YFT</th>\n",
       "    </tr>\n",
       "  </thead>\n",
       "  <tbody>\n",
       "    <tr>\n",
       "      <th>0</th>\n",
       "      <td>img_00005.jpg</td>\n",
       "      <td>0.455003</td>\n",
       "      <td>0.052938</td>\n",
       "      <td>0.030969</td>\n",
       "      <td>0.017734</td>\n",
       "      <td>0.123081</td>\n",
       "      <td>0.079142</td>\n",
       "      <td>0.046585</td>\n",
       "      <td>0.194283</td>\n",
       "    </tr>\n",
       "    <tr>\n",
       "      <th>1</th>\n",
       "      <td>img_00007.jpg</td>\n",
       "      <td>0.455003</td>\n",
       "      <td>0.052938</td>\n",
       "      <td>0.030969</td>\n",
       "      <td>0.017734</td>\n",
       "      <td>0.123081</td>\n",
       "      <td>0.079142</td>\n",
       "      <td>0.046585</td>\n",
       "      <td>0.194283</td>\n",
       "    </tr>\n",
       "  </tbody>\n",
       "</table>\n",
       "</div>"
      ],
      "text/plain": [
       "           image       ALB       BET       DOL       LAG       NoF     OTHER  \\\n",
       "0  img_00005.jpg  0.455003  0.052938  0.030969  0.017734  0.123081  0.079142   \n",
       "1  img_00007.jpg  0.455003  0.052938  0.030969  0.017734  0.123081  0.079142   \n",
       "\n",
       "      SHARK       YFT  \n",
       "0  0.046585  0.194283  \n",
       "1  0.046585  0.194283  "
      ]
     },
     "execution_count": 13,
     "metadata": {},
     "output_type": "execute_result"
    }
   ],
   "source": [
    "sample_data_csv = pd.read_csv('sample_submission_stg1.csv')\n",
    "sample_data_csv.head(2)"
   ]
  },
  {
   "cell_type": "code",
   "execution_count": 14,
   "metadata": {},
   "outputs": [
    {
     "data": {
      "text/plain": [
       "(1000, 9)"
      ]
     },
     "execution_count": 14,
     "metadata": {},
     "output_type": "execute_result"
    }
   ],
   "source": [
    "sample_data_csv.shape"
   ]
  },
  {
   "cell_type": "code",
   "execution_count": 15,
   "metadata": {
    "scrolled": true
   },
   "outputs": [
    {
     "data": {
      "text/plain": [
       "{'ALB': 0,\n",
       " 'BET': 1,\n",
       " 'DOL': 2,\n",
       " 'LAG': 3,\n",
       " 'NoF': 4,\n",
       " 'OTHER': 5,\n",
       " 'SHARK': 6,\n",
       " 'YFT': 7}"
      ]
     },
     "execution_count": 15,
     "metadata": {},
     "output_type": "execute_result"
    }
   ],
   "source": [
    "training_data.class_indices"
   ]
  },
  {
   "cell_type": "code",
   "execution_count": 23,
   "metadata": {},
   "outputs": [],
   "source": [
    "new_model_1 = load_model('my_model.h5')"
   ]
  },
  {
   "cell_type": "code",
   "execution_count": 24,
   "metadata": {},
   "outputs": [],
   "source": [
    "new_model_2 = load_model('my_2nd_model.h5')"
   ]
  },
  {
   "cell_type": "code",
   "execution_count": 25,
   "metadata": {},
   "outputs": [],
   "source": [
    "new_model_3 = load_model('my_3rd_model.h5')"
   ]
  },
  {
   "cell_type": "code",
   "execution_count": 33,
   "metadata": {},
   "outputs": [
    {
     "data": {
      "text/plain": [
       "array([[4.2243691e-12, 1.0000000e+00, 2.6926909e-12, 3.7977857e-32,\n",
       "        1.5483947e-13, 3.6005875e-12, 4.7281506e-10, 2.5129066e-30]],\n",
       "      dtype=float32)"
      ]
     },
     "execution_count": 33,
     "metadata": {},
     "output_type": "execute_result"
    }
   ],
   "source": [
    "img = image.load_img('shark.JPG', target_size=target_size, color_mode='rgb')\n",
    "x = image.img_to_array(img)\n",
    "x = np.expand_dims(x, axis=0)\n",
    "new_model_1.predict(x)"
   ]
  },
  {
   "cell_type": "code",
   "execution_count": 19,
   "metadata": {},
   "outputs": [],
   "source": [
    "test_data_1.reset()\n",
    "predictions_1 = model.predict_generator(test_data_1, steps=20, verbose=0)"
   ]
  },
  {
   "cell_type": "code",
   "execution_count": 20,
   "metadata": {},
   "outputs": [
    {
     "data": {
      "text/plain": [
       "array([[0.11841138, 0.12217198, 0.10922462, 0.13547026, 0.1312581 ,\n",
       "        0.1390277 , 0.1159405 , 0.12849544],\n",
       "       [0.11432936, 0.11355143, 0.11437988, 0.13000454, 0.14077325,\n",
       "        0.13430344, 0.11239614, 0.14026193]], dtype=float32)"
      ]
     },
     "execution_count": 20,
     "metadata": {},
     "output_type": "execute_result"
    }
   ],
   "source": [
    "predictions_1[:2]"
   ]
  },
  {
   "cell_type": "code",
   "execution_count": 21,
   "metadata": {},
   "outputs": [],
   "source": [
    "np.savetxt('predictions_1.txt', predictions_1)"
   ]
  },
  {
   "cell_type": "code",
   "execution_count": 22,
   "metadata": {},
   "outputs": [],
   "source": [
    "FishNames = ['ALB', 'BET', 'DOL', 'LAG', 'NoF', 'OTHER', 'SHARK', 'YFT']\n",
    "\n",
    "test_image_list = test_data_1.filenames\n",
    "f_submit = open('submit_1.csv', 'w')\n",
    "f_submit.write('image,ALB,BET,DOL,LAG,NoF,OTHER,SHARK,YFT\\n')\n",
    "\n",
    "for i, image_name in enumerate(test_image_list):\n",
    "    pred = ['%.6f' % p for p in predictions_1[i, :]]\n",
    "    f_submit.write('%s,%s\\n' % (os.path.basename(image_name), ','.join(pred)))\n",
    "\n",
    "f_submit.close()"
   ]
  },
  {
   "cell_type": "code",
   "execution_count": 23,
   "metadata": {},
   "outputs": [
    {
     "data": {
      "text/html": [
       "<div>\n",
       "<style scoped>\n",
       "    .dataframe tbody tr th:only-of-type {\n",
       "        vertical-align: middle;\n",
       "    }\n",
       "\n",
       "    .dataframe tbody tr th {\n",
       "        vertical-align: top;\n",
       "    }\n",
       "\n",
       "    .dataframe thead th {\n",
       "        text-align: right;\n",
       "    }\n",
       "</style>\n",
       "<table border=\"1\" class=\"dataframe\">\n",
       "  <thead>\n",
       "    <tr style=\"text-align: right;\">\n",
       "      <th></th>\n",
       "      <th>image</th>\n",
       "      <th>ALB</th>\n",
       "      <th>BET</th>\n",
       "      <th>DOL</th>\n",
       "      <th>LAG</th>\n",
       "      <th>NoF</th>\n",
       "      <th>OTHER</th>\n",
       "      <th>SHARK</th>\n",
       "      <th>YFT</th>\n",
       "    </tr>\n",
       "  </thead>\n",
       "  <tbody>\n",
       "    <tr>\n",
       "      <th>0</th>\n",
       "      <td>img_00005.jpg</td>\n",
       "      <td>0.118411</td>\n",
       "      <td>0.122172</td>\n",
       "      <td>0.109225</td>\n",
       "      <td>0.135470</td>\n",
       "      <td>0.131258</td>\n",
       "      <td>0.139028</td>\n",
       "      <td>0.115941</td>\n",
       "      <td>0.128495</td>\n",
       "    </tr>\n",
       "    <tr>\n",
       "      <th>1</th>\n",
       "      <td>img_00007.jpg</td>\n",
       "      <td>0.114329</td>\n",
       "      <td>0.113551</td>\n",
       "      <td>0.114380</td>\n",
       "      <td>0.130005</td>\n",
       "      <td>0.140773</td>\n",
       "      <td>0.134303</td>\n",
       "      <td>0.112396</td>\n",
       "      <td>0.140262</td>\n",
       "    </tr>\n",
       "  </tbody>\n",
       "</table>\n",
       "</div>"
      ],
      "text/plain": [
       "           image       ALB       BET       DOL       LAG       NoF     OTHER  \\\n",
       "0  img_00005.jpg  0.118411  0.122172  0.109225  0.135470  0.131258  0.139028   \n",
       "1  img_00007.jpg  0.114329  0.113551  0.114380  0.130005  0.140773  0.134303   \n",
       "\n",
       "      SHARK       YFT  \n",
       "0  0.115941  0.128495  \n",
       "1  0.112396  0.140262  "
      ]
     },
     "execution_count": 23,
     "metadata": {},
     "output_type": "execute_result"
    }
   ],
   "source": [
    "df_1 = pd.read_csv('submit_1.csv')\n",
    "df_1.head(2)"
   ]
  },
  {
   "cell_type": "code",
   "execution_count": 25,
   "metadata": {},
   "outputs": [
    {
     "data": {
      "text/plain": [
       "array([[0.11149997, 0.12139884, 0.1088907 , 0.13855469, 0.13002291,\n",
       "        0.14042646, 0.11243585, 0.13677053],\n",
       "       [0.10830174, 0.11919975, 0.1085957 , 0.13161685, 0.1364923 ,\n",
       "        0.15086187, 0.11181303, 0.13311882]], dtype=float32)"
      ]
     },
     "execution_count": 25,
     "metadata": {},
     "output_type": "execute_result"
    }
   ],
   "source": [
    "test_data_2.reset()\n",
    "predictions_2 = model.predict_generator(test_data_2, steps=4051, verbose=0)\n",
    "predictions_2[:2]"
   ]
  },
  {
   "cell_type": "code",
   "execution_count": 26,
   "metadata": {},
   "outputs": [],
   "source": [
    "FishNames = ['ALB', 'BET', 'DOL', 'LAG', 'NoF', 'OTHER', 'SHARK', 'YFT']\n",
    "\n",
    "test_image_list = test_data_2.filenames\n",
    "f_submit = open('submit_2.csv', 'w')\n",
    "f_submit.write('image,ALB,BET,DOL,LAG,NoF,OTHER,SHARK,YFT\\n')\n",
    "\n",
    "for i, image_name in enumerate(test_image_list):\n",
    "    pred = ['%.6f' % p for p in predictions_2[i, :]]\n",
    "    f_submit.write('%s,%s\\n' % (os.path.basename(image_name), ','.join(pred)))\n",
    "\n",
    "f_submit.close()"
   ]
  },
  {
   "cell_type": "code",
   "execution_count": 27,
   "metadata": {},
   "outputs": [
    {
     "data": {
      "text/html": [
       "<div>\n",
       "<style scoped>\n",
       "    .dataframe tbody tr th:only-of-type {\n",
       "        vertical-align: middle;\n",
       "    }\n",
       "\n",
       "    .dataframe tbody tr th {\n",
       "        vertical-align: top;\n",
       "    }\n",
       "\n",
       "    .dataframe thead th {\n",
       "        text-align: right;\n",
       "    }\n",
       "</style>\n",
       "<table border=\"1\" class=\"dataframe\">\n",
       "  <thead>\n",
       "    <tr style=\"text-align: right;\">\n",
       "      <th></th>\n",
       "      <th>image</th>\n",
       "      <th>ALB</th>\n",
       "      <th>BET</th>\n",
       "      <th>DOL</th>\n",
       "      <th>LAG</th>\n",
       "      <th>NoF</th>\n",
       "      <th>OTHER</th>\n",
       "      <th>SHARK</th>\n",
       "      <th>YFT</th>\n",
       "    </tr>\n",
       "  </thead>\n",
       "  <tbody>\n",
       "    <tr>\n",
       "      <th>0</th>\n",
       "      <td>image_00001.jpg</td>\n",
       "      <td>0.111500</td>\n",
       "      <td>0.121399</td>\n",
       "      <td>0.108891</td>\n",
       "      <td>0.138555</td>\n",
       "      <td>0.130023</td>\n",
       "      <td>0.140426</td>\n",
       "      <td>0.112436</td>\n",
       "      <td>0.136771</td>\n",
       "    </tr>\n",
       "    <tr>\n",
       "      <th>1</th>\n",
       "      <td>image_00002.jpg</td>\n",
       "      <td>0.108302</td>\n",
       "      <td>0.119200</td>\n",
       "      <td>0.108596</td>\n",
       "      <td>0.131617</td>\n",
       "      <td>0.136492</td>\n",
       "      <td>0.150862</td>\n",
       "      <td>0.111813</td>\n",
       "      <td>0.133119</td>\n",
       "    </tr>\n",
       "  </tbody>\n",
       "</table>\n",
       "</div>"
      ],
      "text/plain": [
       "             image       ALB       BET       DOL       LAG       NoF  \\\n",
       "0  image_00001.jpg  0.111500  0.121399  0.108891  0.138555  0.130023   \n",
       "1  image_00002.jpg  0.108302  0.119200  0.108596  0.131617  0.136492   \n",
       "\n",
       "      OTHER     SHARK       YFT  \n",
       "0  0.140426  0.112436  0.136771  \n",
       "1  0.150862  0.111813  0.133119  "
      ]
     },
     "execution_count": 27,
     "metadata": {},
     "output_type": "execute_result"
    }
   ],
   "source": [
    "df_2 = pd.read_csv('submit_2.csv')\n",
    "df_2.head(2)"
   ]
  },
  {
   "cell_type": "code",
   "execution_count": 29,
   "metadata": {},
   "outputs": [],
   "source": [
    "df_2['image'] = df_2['image'].map(lambda x: 'test_stg2/' + x)"
   ]
  },
  {
   "cell_type": "code",
   "execution_count": 30,
   "metadata": {},
   "outputs": [
    {
     "data": {
      "text/html": [
       "<div>\n",
       "<style scoped>\n",
       "    .dataframe tbody tr th:only-of-type {\n",
       "        vertical-align: middle;\n",
       "    }\n",
       "\n",
       "    .dataframe tbody tr th {\n",
       "        vertical-align: top;\n",
       "    }\n",
       "\n",
       "    .dataframe thead th {\n",
       "        text-align: right;\n",
       "    }\n",
       "</style>\n",
       "<table border=\"1\" class=\"dataframe\">\n",
       "  <thead>\n",
       "    <tr style=\"text-align: right;\">\n",
       "      <th></th>\n",
       "      <th>image</th>\n",
       "      <th>ALB</th>\n",
       "      <th>BET</th>\n",
       "      <th>DOL</th>\n",
       "      <th>LAG</th>\n",
       "      <th>NoF</th>\n",
       "      <th>OTHER</th>\n",
       "      <th>SHARK</th>\n",
       "      <th>YFT</th>\n",
       "    </tr>\n",
       "  </thead>\n",
       "  <tbody>\n",
       "    <tr>\n",
       "      <th>0</th>\n",
       "      <td>test_stg2/image_00001.jpg</td>\n",
       "      <td>0.111500</td>\n",
       "      <td>0.121399</td>\n",
       "      <td>0.108891</td>\n",
       "      <td>0.138555</td>\n",
       "      <td>0.130023</td>\n",
       "      <td>0.140426</td>\n",
       "      <td>0.112436</td>\n",
       "      <td>0.136771</td>\n",
       "    </tr>\n",
       "    <tr>\n",
       "      <th>1</th>\n",
       "      <td>test_stg2/image_00002.jpg</td>\n",
       "      <td>0.108302</td>\n",
       "      <td>0.119200</td>\n",
       "      <td>0.108596</td>\n",
       "      <td>0.131617</td>\n",
       "      <td>0.136492</td>\n",
       "      <td>0.150862</td>\n",
       "      <td>0.111813</td>\n",
       "      <td>0.133119</td>\n",
       "    </tr>\n",
       "  </tbody>\n",
       "</table>\n",
       "</div>"
      ],
      "text/plain": [
       "                       image       ALB       BET       DOL       LAG  \\\n",
       "0  test_stg2/image_00001.jpg  0.111500  0.121399  0.108891  0.138555   \n",
       "1  test_stg2/image_00002.jpg  0.108302  0.119200  0.108596  0.131617   \n",
       "\n",
       "        NoF     OTHER     SHARK       YFT  \n",
       "0  0.130023  0.140426  0.112436  0.136771  \n",
       "1  0.136492  0.150862  0.111813  0.133119  "
      ]
     },
     "execution_count": 30,
     "metadata": {},
     "output_type": "execute_result"
    }
   ],
   "source": [
    "df_2.head(2)"
   ]
  },
  {
   "cell_type": "code",
   "execution_count": 37,
   "metadata": {},
   "outputs": [],
   "source": [
    "np.savetxt('predictions_2.txt', predictions_2)"
   ]
  },
  {
   "cell_type": "code",
   "execution_count": 31,
   "metadata": {},
   "outputs": [],
   "source": [
    "new_df = pd.concat([df_1, df_2])"
   ]
  },
  {
   "cell_type": "code",
   "execution_count": 32,
   "metadata": {},
   "outputs": [
    {
     "data": {
      "text/html": [
       "<div>\n",
       "<style scoped>\n",
       "    .dataframe tbody tr th:only-of-type {\n",
       "        vertical-align: middle;\n",
       "    }\n",
       "\n",
       "    .dataframe tbody tr th {\n",
       "        vertical-align: top;\n",
       "    }\n",
       "\n",
       "    .dataframe thead th {\n",
       "        text-align: right;\n",
       "    }\n",
       "</style>\n",
       "<table border=\"1\" class=\"dataframe\">\n",
       "  <thead>\n",
       "    <tr style=\"text-align: right;\">\n",
       "      <th></th>\n",
       "      <th>image</th>\n",
       "      <th>ALB</th>\n",
       "      <th>BET</th>\n",
       "      <th>DOL</th>\n",
       "      <th>LAG</th>\n",
       "      <th>NoF</th>\n",
       "      <th>OTHER</th>\n",
       "      <th>SHARK</th>\n",
       "      <th>YFT</th>\n",
       "    </tr>\n",
       "  </thead>\n",
       "  <tbody>\n",
       "    <tr>\n",
       "      <th>0</th>\n",
       "      <td>img_00005.jpg</td>\n",
       "      <td>0.118411</td>\n",
       "      <td>0.122172</td>\n",
       "      <td>0.109225</td>\n",
       "      <td>0.135470</td>\n",
       "      <td>0.131258</td>\n",
       "      <td>0.139028</td>\n",
       "      <td>0.115941</td>\n",
       "      <td>0.128495</td>\n",
       "    </tr>\n",
       "    <tr>\n",
       "      <th>1</th>\n",
       "      <td>img_00007.jpg</td>\n",
       "      <td>0.114329</td>\n",
       "      <td>0.113551</td>\n",
       "      <td>0.114380</td>\n",
       "      <td>0.130005</td>\n",
       "      <td>0.140773</td>\n",
       "      <td>0.134303</td>\n",
       "      <td>0.112396</td>\n",
       "      <td>0.140262</td>\n",
       "    </tr>\n",
       "  </tbody>\n",
       "</table>\n",
       "</div>"
      ],
      "text/plain": [
       "           image       ALB       BET       DOL       LAG       NoF     OTHER  \\\n",
       "0  img_00005.jpg  0.118411  0.122172  0.109225  0.135470  0.131258  0.139028   \n",
       "1  img_00007.jpg  0.114329  0.113551  0.114380  0.130005  0.140773  0.134303   \n",
       "\n",
       "      SHARK       YFT  \n",
       "0  0.115941  0.128495  \n",
       "1  0.112396  0.140262  "
      ]
     },
     "execution_count": 32,
     "metadata": {},
     "output_type": "execute_result"
    }
   ],
   "source": [
    "new_df.head(2)"
   ]
  },
  {
   "cell_type": "code",
   "execution_count": 33,
   "metadata": {},
   "outputs": [
    {
     "name": "stdout",
     "output_type": "stream",
     "text": [
      "<class 'pandas.core.frame.DataFrame'>\n",
      "Int64Index: 13153 entries, 0 to 12152\n",
      "Data columns (total 9 columns):\n",
      "image    13153 non-null object\n",
      "ALB      13153 non-null float64\n",
      "BET      13153 non-null float64\n",
      "DOL      13153 non-null float64\n",
      "LAG      13153 non-null float64\n",
      "NoF      13153 non-null float64\n",
      "OTHER    13153 non-null float64\n",
      "SHARK    13153 non-null float64\n",
      "YFT      13153 non-null float64\n",
      "dtypes: float64(8), object(1)\n",
      "memory usage: 1.0+ MB\n"
     ]
    }
   ],
   "source": [
    "new_df.info()"
   ]
  },
  {
   "cell_type": "code",
   "execution_count": 34,
   "metadata": {},
   "outputs": [],
   "source": [
    "new_df.reset_index(drop=True, inplace=True)"
   ]
  },
  {
   "cell_type": "code",
   "execution_count": 35,
   "metadata": {},
   "outputs": [
    {
     "data": {
      "text/html": [
       "<div>\n",
       "<style scoped>\n",
       "    .dataframe tbody tr th:only-of-type {\n",
       "        vertical-align: middle;\n",
       "    }\n",
       "\n",
       "    .dataframe tbody tr th {\n",
       "        vertical-align: top;\n",
       "    }\n",
       "\n",
       "    .dataframe thead th {\n",
       "        text-align: right;\n",
       "    }\n",
       "</style>\n",
       "<table border=\"1\" class=\"dataframe\">\n",
       "  <thead>\n",
       "    <tr style=\"text-align: right;\">\n",
       "      <th></th>\n",
       "      <th>image</th>\n",
       "      <th>ALB</th>\n",
       "      <th>BET</th>\n",
       "      <th>DOL</th>\n",
       "      <th>LAG</th>\n",
       "      <th>NoF</th>\n",
       "      <th>OTHER</th>\n",
       "      <th>SHARK</th>\n",
       "      <th>YFT</th>\n",
       "    </tr>\n",
       "  </thead>\n",
       "  <tbody>\n",
       "    <tr>\n",
       "      <th>0</th>\n",
       "      <td>img_00005.jpg</td>\n",
       "      <td>0.118411</td>\n",
       "      <td>0.122172</td>\n",
       "      <td>0.109225</td>\n",
       "      <td>0.135470</td>\n",
       "      <td>0.131258</td>\n",
       "      <td>0.139028</td>\n",
       "      <td>0.115941</td>\n",
       "      <td>0.128495</td>\n",
       "    </tr>\n",
       "    <tr>\n",
       "      <th>1</th>\n",
       "      <td>img_00007.jpg</td>\n",
       "      <td>0.114329</td>\n",
       "      <td>0.113551</td>\n",
       "      <td>0.114380</td>\n",
       "      <td>0.130005</td>\n",
       "      <td>0.140773</td>\n",
       "      <td>0.134303</td>\n",
       "      <td>0.112396</td>\n",
       "      <td>0.140262</td>\n",
       "    </tr>\n",
       "  </tbody>\n",
       "</table>\n",
       "</div>"
      ],
      "text/plain": [
       "           image       ALB       BET       DOL       LAG       NoF     OTHER  \\\n",
       "0  img_00005.jpg  0.118411  0.122172  0.109225  0.135470  0.131258  0.139028   \n",
       "1  img_00007.jpg  0.114329  0.113551  0.114380  0.130005  0.140773  0.134303   \n",
       "\n",
       "      SHARK       YFT  \n",
       "0  0.115941  0.128495  \n",
       "1  0.112396  0.140262  "
      ]
     },
     "execution_count": 35,
     "metadata": {},
     "output_type": "execute_result"
    }
   ],
   "source": [
    "new_df.head(2)"
   ]
  },
  {
   "cell_type": "code",
   "execution_count": 36,
   "metadata": {},
   "outputs": [],
   "source": [
    "new_df.to_csv('f.csv')"
   ]
  },
  {
   "cell_type": "code",
   "execution_count": null,
   "metadata": {},
   "outputs": [],
   "source": []
  }
 ],
 "metadata": {
  "kernelspec": {
   "display_name": "Python 3",
   "language": "python",
   "name": "python3"
  },
  "language_info": {
   "codemirror_mode": {
    "name": "ipython",
    "version": 3
   },
   "file_extension": ".py",
   "mimetype": "text/x-python",
   "name": "python",
   "nbconvert_exporter": "python",
   "pygments_lexer": "ipython3",
   "version": "3.6.8"
  }
 },
 "nbformat": 4,
 "nbformat_minor": 2
}
